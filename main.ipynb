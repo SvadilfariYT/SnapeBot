{
 "cells": [
  {
   "cell_type": "markdown",
   "metadata": {},
   "source": [
    "test"
   ]
  },
  {
   "cell_type": "code",
   "execution_count": 19,
   "metadata": {},
   "outputs": [
    {
     "name": "stderr",
     "output_type": "stream",
     "text": [
      "C:\\Users\\domin\\AppData\\Local\\Temp\\ipykernel_17616\\1220297648.py:13: UserWarning: [W008] Evaluating Doc.similarity based on empty vectors.\n",
      "  nlp(question).similarity(nlp(\"hi\"))\n"
     ]
    }
   ],
   "source": [
    "import pandas as pd \n",
    "import spacy\n",
    "\n",
    "nlp = spacy.load(\"en_core_web_lg\")\n",
    "\n",
    "data = pd.read_json(\"data.json\")\n",
    "data.columns = [\"questions\", \"responses\"]\n",
    "\n",
    "test = \"Hi\"\n",
    "\n",
    "for question in data.questions:\n",
    "    #print(nlp(question))\n",
    "    nlp(question).similarity(nlp(\"hi\"))"
   ]
  },
  {
   "cell_type": "markdown",
   "metadata": {},
   "source": [
    "## Input"
   ]
  },
  {
   "cell_type": "code",
   "execution_count": 4,
   "metadata": {},
   "outputs": [],
   "source": [
    "def get_input():\n",
    "    input_text = \"Hello there\"    \n",
    "    \n",
    "    return input_text"
   ]
  },
  {
   "cell_type": "code",
   "execution_count": 9,
   "metadata": {},
   "outputs": [],
   "source": [
    "input = nlp(get_input())"
   ]
  },
  {
   "cell_type": "code",
   "execution_count": 24,
   "metadata": {},
   "outputs": [
    {
     "name": "stdout",
     "output_type": "stream",
     "text": [
      "426\n"
     ]
    }
   ],
   "source": [
    "most_similar_question_id = 0\n",
    "most_similar_question_similarity = 0\n",
    "\n",
    "for id, question in enumerate(data.questions):\n",
    "    question_nlp = nlp(question)\n",
    "\n",
    "    if question_nlp.vector_norm:\n",
    "        similarity = input.similarity(question_nlp)\n",
    "\n",
    "        if similarity > most_similar_question_similarity:\n",
    "            most_similar_question_id = id\n",
    "            most_similar_question_similarity = similarity\n",
    "            \n",
    "print(most_similar_question_id)"
   ]
  },
  {
   "cell_type": "code",
   "execution_count": 26,
   "metadata": {},
   "outputs": [
    {
     "name": "stdout",
     "output_type": "stream",
     "text": [
      " Well, well.  What brings you here, Potter?\n",
      "  I could ask you the same.\n"
     ]
    }
   ],
   "source": [
    "print(\"matched question: \" + data.questions[most_similar_question_id])\n",
    "print(\"answer: \"data.responses[most_similar_question_id])"
   ]
  },
  {
   "cell_type": "code",
   "execution_count": null,
   "metadata": {},
   "outputs": [],
   "source": []
  }
 ],
 "metadata": {
  "kernelspec": {
   "display_name": "Python 3.8.2 64-bit",
   "language": "python",
   "name": "python3"
  },
  "language_info": {
   "codemirror_mode": {
    "name": "ipython",
    "version": 3
   },
   "file_extension": ".py",
   "mimetype": "text/x-python",
   "name": "python",
   "nbconvert_exporter": "python",
   "pygments_lexer": "ipython3",
   "version": "3.8.2"
  },
  "orig_nbformat": 4,
  "vscode": {
   "interpreter": {
    "hash": "570feb405e2e27c949193ac68f46852414290d515b0ba6e5d90d076ed2284471"
   }
  }
 },
 "nbformat": 4,
 "nbformat_minor": 2
}
